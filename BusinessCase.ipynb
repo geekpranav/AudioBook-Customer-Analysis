{
 "cells": [
  {
   "cell_type": "code",
   "execution_count": 1,
   "id": "90b2259a",
   "metadata": {},
   "outputs": [
    {
     "name": "stdout",
     "output_type": "stream",
     "text": [
      "Requirement already satisfied: tensorflow-datasets in c:\\users\\candy\\anaconda3\\lib\\site-packages (4.4.0)\n",
      "Requirement already satisfied: tensorflow-metadata in c:\\users\\candy\\anaconda3\\lib\\site-packages (from tensorflow-datasets) (1.6.0)\n",
      "Requirement already satisfied: promise in c:\\users\\candy\\anaconda3\\lib\\site-packages (from tensorflow-datasets) (2.3)\n",
      "Requirement already satisfied: protobuf>=3.12.2 in c:\\users\\candy\\anaconda3\\lib\\site-packages (from tensorflow-datasets) (3.19.3)\n",
      "Requirement already satisfied: requests>=2.19.0 in c:\\users\\candy\\anaconda3\\lib\\site-packages (from tensorflow-datasets) (2.25.1)\n",
      "Requirement already satisfied: termcolor in c:\\users\\candy\\anaconda3\\lib\\site-packages (from tensorflow-datasets) (1.1.0)\n",
      "Requirement already satisfied: tqdm in c:\\users\\candy\\anaconda3\\lib\\site-packages (from tensorflow-datasets) (4.59.0)\n",
      "Requirement already satisfied: importlib-resources in c:\\users\\candy\\anaconda3\\lib\\site-packages (from tensorflow-datasets) (5.4.0)\n",
      "Requirement already satisfied: future in c:\\users\\candy\\anaconda3\\lib\\site-packages (from tensorflow-datasets) (0.18.2)\n",
      "Requirement already satisfied: dill in c:\\users\\candy\\anaconda3\\lib\\site-packages (from tensorflow-datasets) (0.3.4)\n",
      "Requirement already satisfied: absl-py in c:\\users\\candy\\anaconda3\\lib\\site-packages (from tensorflow-datasets) (1.0.0)\n",
      "Requirement already satisfied: six in c:\\users\\candy\\anaconda3\\lib\\site-packages (from tensorflow-datasets) (1.15.0)\n",
      "Requirement already satisfied: attrs>=18.1.0 in c:\\users\\candy\\anaconda3\\lib\\site-packages (from tensorflow-datasets) (20.3.0)\n",
      "Requirement already satisfied: numpy in c:\\users\\candy\\anaconda3\\lib\\site-packages (from tensorflow-datasets) (1.20.1)\n",
      "Requirement already satisfied: urllib3<1.27,>=1.21.1 in c:\\users\\candy\\anaconda3\\lib\\site-packages (from requests>=2.19.0->tensorflow-datasets) (1.26.4)\n",
      "Requirement already satisfied: idna<3,>=2.5 in c:\\users\\candy\\anaconda3\\lib\\site-packages (from requests>=2.19.0->tensorflow-datasets) (2.10)\n",
      "Requirement already satisfied: chardet<5,>=3.0.2 in c:\\users\\candy\\anaconda3\\lib\\site-packages (from requests>=2.19.0->tensorflow-datasets) (4.0.0)\n",
      "Requirement already satisfied: certifi>=2017.4.17 in c:\\users\\candy\\anaconda3\\lib\\site-packages (from requests>=2.19.0->tensorflow-datasets) (2020.12.5)\n",
      "Requirement already satisfied: zipp>=3.1.0 in c:\\users\\candy\\anaconda3\\lib\\site-packages (from importlib-resources->tensorflow-datasets) (3.4.1)\n",
      "Requirement already satisfied: googleapis-common-protos<2,>=1.52.0 in c:\\users\\candy\\anaconda3\\lib\\site-packages (from tensorflow-metadata->tensorflow-datasets) (1.54.0)\n",
      "Note: you may need to restart the kernel to use updated packages.\n"
     ]
    }
   ],
   "source": [
    "pip install tensorflow-datasets"
   ]
  },
  {
   "cell_type": "code",
   "execution_count": 2,
   "id": "7f1a9183",
   "metadata": {},
   "outputs": [],
   "source": [
    "#business case-study project \n",
    "#code by pranav sankaran\n",
    "#create a ML algo to determine if a customer will buy again from the auiobook service \n",
    "import numpy as np \n",
    "import pandas as pd \n",
    "from sklearn import preprocessing \n",
    "raw_csv_data = np.loadtxt('Audiobooks_data.csv',delimiter=',')\n",
    "raw_input_data = raw_csv_data[:,1:-1]\n",
    "targets_all = raw_csv_data[:,-1]\n"
   ]
  },
  {
   "cell_type": "code",
   "execution_count": 3,
   "id": "dba475d8",
   "metadata": {},
   "outputs": [],
   "source": [
    "#balance the dataset \n",
    "num_one_targets = int(np.sum(targets_all))"
   ]
  },
  {
   "cell_type": "code",
   "execution_count": 4,
   "id": "8dc76b88",
   "metadata": {},
   "outputs": [],
   "source": [
    "zero_target_counter=0\n",
    "indeces_to_remove=[]\n"
   ]
  },
  {
   "cell_type": "code",
   "execution_count": 5,
   "id": "1184ada9",
   "metadata": {},
   "outputs": [],
   "source": [
    "for i in range(targets_all.shape[0]):\n",
    "    if targets_all[i]==0:\n",
    "        zero_target_counter+=1\n",
    "        if zero_target_counter>num_one_targets:\n",
    "            indeces_to_remove.append(i)\n",
    "        \n",
    "    \n"
   ]
  },
  {
   "cell_type": "code",
   "execution_count": 6,
   "id": "4ee3e2f9",
   "metadata": {},
   "outputs": [],
   "source": [
    "unscaled_input_priors=np.delete(raw_input_data,indeces_to_remove,axis=0)\n",
    "targets_equal_priors = np.delete(targets_all,indeces_to_remove,axis=0)\n"
   ]
  },
  {
   "cell_type": "code",
   "execution_count": 7,
   "id": "083bcdb4",
   "metadata": {},
   "outputs": [],
   "source": [
    "scaled_inputs=preprocessing.scale(unscaled_input_priors)\n"
   ]
  },
  {
   "cell_type": "code",
   "execution_count": 8,
   "id": "61fe87d2",
   "metadata": {},
   "outputs": [],
   "source": [
    "#all inputs are now stadardised \n",
    "shuffled_indeces = np.arange(scaled_inputs.shape[0])\n",
    "np.random.shuffle(shuffled_indeces)"
   ]
  },
  {
   "cell_type": "code",
   "execution_count": 9,
   "id": "e579ffc0",
   "metadata": {},
   "outputs": [],
   "source": [
    "shuffled_inputs= scaled_inputs[shuffled_indeces]\n",
    "shuffled_targets = targets_equal_priors[shuffled_indeces]"
   ]
  },
  {
   "cell_type": "code",
   "execution_count": 10,
   "id": "d100f351",
   "metadata": {},
   "outputs": [],
   "source": [
    "#split the dataset into train , validation , test \n",
    "sample_count = shuffled_inputs.shape[0]\n",
    "train_samples_count = int(0.8*sample_count)\n",
    "validation_samples_count = int(0.1*sample_count)\n",
    "test_samples_count = train_samples_count-validation_samples_count"
   ]
  },
  {
   "cell_type": "code",
   "execution_count": 11,
   "id": "7229b1f5",
   "metadata": {},
   "outputs": [],
   "source": [
    "train_inputs = shuffled_inputs[:train_samples_count]"
   ]
  },
  {
   "cell_type": "code",
   "execution_count": 12,
   "id": "352508e9",
   "metadata": {},
   "outputs": [],
   "source": [
    "train_targets = shuffled_targets[:train_samples_count]\n"
   ]
  },
  {
   "cell_type": "code",
   "execution_count": 13,
   "id": "f38f8214",
   "metadata": {},
   "outputs": [],
   "source": [
    "validation_inputs = shuffled_inputs[train_samples_count:train_samples_count+validation_samples_count]\n",
    "validation_targets = shuffled_targets[train_samples_count:train_samples_count+validation_samples_count]"
   ]
  },
  {
   "cell_type": "code",
   "execution_count": 14,
   "id": "91f2f4c4",
   "metadata": {},
   "outputs": [],
   "source": [
    "test_inputs=shuffled_inputs[train_samples_count:train_samples_count+validation_samples_count:]\n",
    "test_targets=shuffled_targets[train_samples_count:train_samples_count+validation_samples_count:]"
   ]
  },
  {
   "cell_type": "code",
   "execution_count": 15,
   "id": "18441b4f",
   "metadata": {},
   "outputs": [],
   "source": [
    "#save the three datasets in the form of tensors \n",
    "np.savez('train_data',inputs=train_inputs,targets=train_targets)\n",
    "np.savez('validation_data',inputs=validation_inputs,targets=validation_targets)\n",
    "np.savez('test_data',inputs=test_inputs,targets=test_targets)"
   ]
  },
  {
   "cell_type": "code",
   "execution_count": 16,
   "id": "0695090b",
   "metadata": {},
   "outputs": [],
   "source": [
    "import tensorflow as tf\n"
   ]
  },
  {
   "cell_type": "code",
   "execution_count": 17,
   "id": "39e4c6d3",
   "metadata": {},
   "outputs": [],
   "source": [
    "npz=np.load('train_data.npz')"
   ]
  },
  {
   "cell_type": "code",
   "execution_count": 18,
   "id": "ad72e965",
   "metadata": {},
   "outputs": [
    {
     "name": "stderr",
     "output_type": "stream",
     "text": [
      "<ipython-input-18-8775f4c1d395>:1: DeprecationWarning: `np.float` is a deprecated alias for the builtin `float`. To silence this warning, use `float` by itself. Doing this will not modify any behavior and is safe. If you specifically wanted the numpy scalar type, use `np.float64` here.\n",
      "Deprecated in NumPy 1.20; for more details and guidance: https://numpy.org/devdocs/release/1.20.0-notes.html#deprecations\n",
      "  train_inputs=npz['inputs'].astype(np.float)\n"
     ]
    }
   ],
   "source": [
    "train_inputs=npz['inputs'].astype(np.float)"
   ]
  },
  {
   "cell_type": "code",
   "execution_count": 19,
   "id": "0f58cb15",
   "metadata": {},
   "outputs": [
    {
     "name": "stderr",
     "output_type": "stream",
     "text": [
      "<ipython-input-19-bd24ff15a260>:1: DeprecationWarning: `np.int` is a deprecated alias for the builtin `int`. To silence this warning, use `int` by itself. Doing this will not modify any behavior and is safe. When replacing `np.int`, you may wish to use e.g. `np.int64` or `np.int32` to specify the precision. If you wish to review your current use, check the release note link for additional information.\n",
      "Deprecated in NumPy 1.20; for more details and guidance: https://numpy.org/devdocs/release/1.20.0-notes.html#deprecations\n",
      "  train_targets=npz['targets'].astype(np.int)\n"
     ]
    }
   ],
   "source": [
    "train_targets=npz['targets'].astype(np.int)"
   ]
  },
  {
   "cell_type": "code",
   "execution_count": 20,
   "id": "7fac23c4",
   "metadata": {},
   "outputs": [
    {
     "name": "stderr",
     "output_type": "stream",
     "text": [
      "<ipython-input-20-6f063185b271>:2: DeprecationWarning: `np.float` is a deprecated alias for the builtin `float`. To silence this warning, use `float` by itself. Doing this will not modify any behavior and is safe. If you specifically wanted the numpy scalar type, use `np.float64` here.\n",
      "Deprecated in NumPy 1.20; for more details and guidance: https://numpy.org/devdocs/release/1.20.0-notes.html#deprecations\n",
      "  validation_train,validation_test=npz['inputs'].astype(np.float),npz['targets'].astype(np.int)\n",
      "<ipython-input-20-6f063185b271>:2: DeprecationWarning: `np.int` is a deprecated alias for the builtin `int`. To silence this warning, use `int` by itself. Doing this will not modify any behavior and is safe. When replacing `np.int`, you may wish to use e.g. `np.int64` or `np.int32` to specify the precision. If you wish to review your current use, check the release note link for additional information.\n",
      "Deprecated in NumPy 1.20; for more details and guidance: https://numpy.org/devdocs/release/1.20.0-notes.html#deprecations\n",
      "  validation_train,validation_test=npz['inputs'].astype(np.float),npz['targets'].astype(np.int)\n"
     ]
    }
   ],
   "source": [
    "npz=np.load('validation_data.npz')\n",
    "validation_train,validation_test=npz['inputs'].astype(np.float),npz['targets'].astype(np.int)"
   ]
  },
  {
   "cell_type": "code",
   "execution_count": 21,
   "id": "322928fc",
   "metadata": {},
   "outputs": [
    {
     "name": "stderr",
     "output_type": "stream",
     "text": [
      "<ipython-input-21-7edd0a842966>:2: DeprecationWarning: `np.float` is a deprecated alias for the builtin `float`. To silence this warning, use `float` by itself. Doing this will not modify any behavior and is safe. If you specifically wanted the numpy scalar type, use `np.float64` here.\n",
      "Deprecated in NumPy 1.20; for more details and guidance: https://numpy.org/devdocs/release/1.20.0-notes.html#deprecations\n",
      "  validation_train,validation_test=npz['inputs'].astype(np.float),npz['targets'].astype(np.int)\n",
      "<ipython-input-21-7edd0a842966>:2: DeprecationWarning: `np.int` is a deprecated alias for the builtin `int`. To silence this warning, use `int` by itself. Doing this will not modify any behavior and is safe. When replacing `np.int`, you may wish to use e.g. `np.int64` or `np.int32` to specify the precision. If you wish to review your current use, check the release note link for additional information.\n",
      "Deprecated in NumPy 1.20; for more details and guidance: https://numpy.org/devdocs/release/1.20.0-notes.html#deprecations\n",
      "  validation_train,validation_test=npz['inputs'].astype(np.float),npz['targets'].astype(np.int)\n"
     ]
    }
   ],
   "source": [
    "npz=np.load('test_data.npz')\n",
    "validation_train,validation_test=npz['inputs'].astype(np.float),npz['targets'].astype(np.int)"
   ]
  },
  {
   "cell_type": "code",
   "execution_count": 22,
   "id": "4561b81f",
   "metadata": {},
   "outputs": [],
   "source": [
    "input_size = 10\n",
    "output_size = 2\n",
    "hidden_layer_size = 75"
   ]
  },
  {
   "cell_type": "code",
   "execution_count": 24,
   "id": "5c6009ee",
   "metadata": {},
   "outputs": [],
   "source": [
    "model=tf.keras.Sequential([\n",
    "    tf.keras.layers.Dense(hidden_layer_size,activation='relu'),\n",
    "    tf.keras.layers.Dense(hidden_layer_size,activation='relu'),\n",
    "    tf.keras.layers.Dense(hidden_layer_size,activation='relu'),\n",
    "    tf.keras.layers.Dense(output_size,activation='softmax')\n",
    "])"
   ]
  },
  {
   "cell_type": "code",
   "execution_count": 25,
   "id": "264be3bc",
   "metadata": {},
   "outputs": [],
   "source": [
    "model.compile(optimizer='adam',loss='sparse_categorical_crossentropy',metrics=['accuracy'])\n"
   ]
  },
  {
   "cell_type": "code",
   "execution_count": 29,
   "id": "91d7eb0b",
   "metadata": {},
   "outputs": [
    {
     "name": "stdout",
     "output_type": "stream",
     "text": [
      "Epoch 1/100\n",
      "36/36 - 0s - loss: 0.2855 - accuracy: 0.8419 - val_loss: 0.3169 - val_accuracy: 0.8188 - 101ms/epoch - 3ms/step\n",
      "Epoch 2/100\n",
      "36/36 - 0s - loss: 0.2884 - accuracy: 0.8402 - val_loss: 0.3208 - val_accuracy: 0.8277 - 73ms/epoch - 2ms/step\n",
      "Epoch 3/100\n",
      "36/36 - 0s - loss: 0.2867 - accuracy: 0.8396 - val_loss: 0.3298 - val_accuracy: 0.8054 - 68ms/epoch - 2ms/step\n",
      "Epoch 4/100\n",
      "36/36 - 0s - loss: 0.2915 - accuracy: 0.8379 - val_loss: 0.3281 - val_accuracy: 0.8188 - 72ms/epoch - 2ms/step\n"
     ]
    },
    {
     "data": {
      "text/plain": [
       "<keras.callbacks.History at 0x29b35a88670>"
      ]
     },
     "execution_count": 29,
     "metadata": {},
     "output_type": "execute_result"
    }
   ],
   "source": [
    "batch_size=100\n",
    "max_epochs=100\n",
    "callbacks=tf.keras.callbacks.EarlyStopping(patience=3)\n",
    "\n",
    "\n",
    "model.fit(train_inputs,train_targets,batch_size=batch_size,callbacks=[callbacks],validation_data=(validation_inputs,validation_targets),verbose=2,epochs=max_epochs)"
   ]
  },
  {
   "cell_type": "code",
   "execution_count": 30,
   "id": "e1d70417",
   "metadata": {},
   "outputs": [
    {
     "name": "stdout",
     "output_type": "stream",
     "text": [
      "14/14 [==============================] - 0s 2ms/step - loss: 0.3281 - accuracy: 0.8188\n"
     ]
    }
   ],
   "source": [
    "test_loss,test_accuracy=model.evaluate(test_inputs,test_targets)"
   ]
  },
  {
   "cell_type": "code",
   "execution_count": null,
   "id": "0c6c1dda",
   "metadata": {},
   "outputs": [],
   "source": []
  }
 ],
 "metadata": {
  "kernelspec": {
   "display_name": "Python 3",
   "language": "python",
   "name": "python3"
  },
  "language_info": {
   "codemirror_mode": {
    "name": "ipython",
    "version": 3
   },
   "file_extension": ".py",
   "mimetype": "text/x-python",
   "name": "python",
   "nbconvert_exporter": "python",
   "pygments_lexer": "ipython3",
   "version": "3.8.8"
  }
 },
 "nbformat": 4,
 "nbformat_minor": 5
}
